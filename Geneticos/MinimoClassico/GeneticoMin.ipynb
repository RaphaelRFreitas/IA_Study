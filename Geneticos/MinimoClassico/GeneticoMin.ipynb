{
 "cells": [
  {
   "cell_type": "code",
   "execution_count": 1,
   "metadata": {
    "collapsed": true
   },
   "outputs": [],
   "source": [
    "import random\n",
    "import numpy as np"
   ]
  },
  {
   "cell_type": "code",
   "execution_count": 2,
   "outputs": [],
   "source": [
    "class BitSet:\n",
    "    def __init__(self,size):\n",
    "        self.bits = np.full((1,size), False)\n",
    "\n",
    "    def get(self, index):\n",
    "        return self.bits[0,index]\n",
    "\n",
    "    def set(self,index, value):\n",
    "        self.bits[0,index] = value\n",
    "\n",
    "    def flip(self,index):\n",
    "        self.bits[0,index] = not self.bits[0,index]\n",
    "\n",
    "    def debug(self):\n",
    "        print(self.bits)"
   ],
   "metadata": {
    "collapsed": false
   }
  },
  {
   "cell_type": "code",
   "execution_count": 10,
   "outputs": [],
   "source": [
    "class Chromossome:\n",
    "    def __init__(self):\n",
    "        x = random.randint(-15,15)\n",
    "        y = random.randint(-15,15)\n",
    "\n",
    "        self.__genes = Chromossome.get_genotype(x,y)\n",
    "\n",
    "    @staticmethod\n",
    "    def get_genotype(x,y):\n",
    "        bits = BitSet(10)\n",
    "\n",
    "        xy_binary = \"{:05b}\".format(x) + \"{:05b}\".format(y)\n",
    "        for i in range(10):\n",
    "            bits.set(i,xy_binary[i] == '1')\n",
    "        return bits\n",
    "\n",
    "    @staticmethod\n",
    "    def get_fenotype(genes):\n",
    "        # xxxxx yyyyyy genótipo\n",
    "        # 01234 56789  índice\n",
    "        # 8421S 8421S  S=0 => + S=1 =>-\n",
    "        x = (8 * genes.get(0) +\n",
    "            4 * genes.get(1) +\n",
    "            2 * genes.get(2) +\n",
    "            1 * genes.get(3))\n",
    "\n",
    "        if genes.get(4) == 1:\n",
    "            x *= -1\n",
    "\n",
    "        y = (8 * genes.get(5) +\n",
    "            4 * genes.get(6) +\n",
    "            2 * genes.get(7) +\n",
    "            1 * genes.get(8))\n",
    "\n",
    "        if genes.get(9) == 1:\n",
    "            y *= -1\n",
    "\n",
    "        return x,y\n",
    "\n",
    "    def get_genes(self):\n",
    "        return self.__genes\n",
    "\n",
    "    def set_genes(self,genes):\n",
    "        self.__genes = genes\n",
    "\n",
    "    def to_string(self):\n",
    "        chr_str = \"G = [\"\n",
    "        for i in range(10):\n",
    "            if i == 5:\n",
    "                chr_str += \" \"\n",
    "            chr_str += \"1\" if self.__genes.get(i) else \"0\"\n",
    "\n",
    "        x,y = Chromossome.get_fenotype(self.__genes)\n",
    "        chr_str += f\"], F = [{x}, {y}]\"\n",
    "        return chr_str"
   ],
   "metadata": {
    "collapsed": false
   }
  },
  {
   "cell_type": "code",
   "execution_count": 13,
   "outputs": [],
   "source": [
    "class Problem:\n",
    "\n",
    "    @staticmethod\n",
    "    def f(x,y):\n",
    "        return x**2 + y**2\n",
    "\n",
    "    @staticmethod\n",
    "    def g(x,y):\n",
    "        return 1/(1 + Problem.f(x,y))\n",
    "\n",
    "    @staticmethod\n",
    "    def f_chromossome(chromossome):\n",
    "        genes = chromossome.get_genes()\n",
    "        x,y = Chromossome.get_fenotype(genes)\n",
    "        return Problem.f(x,y)\n",
    "    @staticmethod\n",
    "    def g_chromossome(chromossome):\n",
    "        genes = chromossome.get_genes()\n",
    "        x,y = Chromossome.get_fenotype(genes)\n",
    "        return Problem.g(x,y)\n",
    "\n",
    "    @staticmethod\n",
    "    def f_average(population):\n",
    "        sum = 0\n",
    "        for c in population:\n",
    "            sum += Problem.f_chromossome(c)\n",
    "        return sum/ len(population)\n",
    "    @staticmethod\n",
    "    def g_average(population):\n",
    "        sum = 0\n",
    "        for c in population:\n",
    "            sum += Problem.g_chromossome(c)\n",
    "        return sum/ len(population)"
   ],
   "metadata": {
    "collapsed": false
   }
  },
  {
   "cell_type": "code",
   "execution_count": 14,
   "outputs": [],
   "source": [
    "class GeneticUtils:\n",
    "\n",
    "    @staticmethod\n",
    "    def find_best_chromossome(population):\n",
    "        best_chromossome = None\n",
    "\n",
    "        for c in population:\n",
    "            score = Problem.g_chromossome(c)\n",
    "\n",
    "            if best_chromossome is None or score > Problem.g_chromossome(best_chromossome):\n",
    "                best_chromossome = c\n",
    "        return best_chromossome\n",
    "\n",
    "    @staticmethod\n",
    "    def find_worst_chromossome(population):\n",
    "        worst_chromossome = None\n",
    "\n",
    "        for c in population:\n",
    "            score = Problem.g_chromossome(c)\n",
    "\n",
    "            if worst_chromossome is None or score < Problem.g_chromossome(worst_chromossome):\n",
    "                best_chromossome = c\n",
    "        return worst_chromossome\n",
    "\n",
    "    @staticmethod\n",
    "    def format_chromossome(chromossome):\n",
    "        return f\"{chromossome.to_string}, Score = {Problem.g_chromossome(chromossome):.3f}\""
   ],
   "metadata": {
    "collapsed": false
   }
  },
  {
   "cell_type": "code",
   "execution_count": null,
   "outputs": [],
   "source": [],
   "metadata": {
    "collapsed": false
   }
  }
 ],
 "metadata": {
  "kernelspec": {
   "display_name": "Python 3",
   "language": "python",
   "name": "python3"
  },
  "language_info": {
   "codemirror_mode": {
    "name": "ipython",
    "version": 2
   },
   "file_extension": ".py",
   "mimetype": "text/x-python",
   "name": "python",
   "nbconvert_exporter": "python",
   "pygments_lexer": "ipython2",
   "version": "2.7.6"
  }
 },
 "nbformat": 4,
 "nbformat_minor": 0
}
