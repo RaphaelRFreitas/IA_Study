{
 "cells": [
  {
   "cell_type": "code",
   "execution_count": 103,
   "metadata": {
    "collapsed": true,
    "pycharm": {
     "name": "#%%\n"
    }
   },
   "outputs": [],
   "source": [
    "import numpy as np\n",
    "\n",
    "\n",
    "class SlidingPuzzle:\n",
    "\n",
    "    def __init__(self, num_blocos):\n",
    "        self.num_blocos = num_blocos\n",
    "\n",
    "    def _encontra_posicao(self, estado, elemento):\n",
    "        for i in range(self.num_blocos):\n",
    "            for j in range(self.num_blocos):\n",
    "                if elemento == estado[i, j]:\n",
    "                    return i, j\n",
    "        return None, None\n",
    "\n",
    "    def verifica_estado(self, atual, objetivo):\n",
    "        for i in range(self.num_blocos):\n",
    "            for j in range(self.num_blocos):\n",
    "                if atual[i, j] != objetivo[i, j]:\n",
    "                    return False\n",
    "        return True\n",
    "\n",
    "    def distancia_manhattan(self, atual, objetivo):\n",
    "        total_dist = 0\n",
    "        for i in range(self.num_blocos):\n",
    "            for j in range(self.num_blocos):\n",
    "                elemento = atual[i,j]\n",
    "                linha, coluna = self._encontra_posicao(objetivo,elemento)\n",
    "                dist = abs(linha-i) + abs(coluna-j)\n",
    "                total_dist += dist\n",
    "        return total_dist\n",
    "\n",
    "\n",
    "    def expande_estados(self, atual):\n",
    "        novos_estados = []\n",
    "        linha, coluna = self._encontra_posicao(atual, 0)\n",
    "\n",
    "        #Cima\n",
    "        if linha > 0:\n",
    "            nova_linha = linha - 1\n",
    "            novo_estado = np.copy(atual)\n",
    "            bloco_alvo = atual[nova_linha, coluna]\n",
    "            novo_estado[nova_linha, coluna] = 0\n",
    "            novo_estado[linha, coluna] = bloco_alvo\n",
    "            novos_estados.append(novo_estado)\n",
    "\n",
    "        #Baixo\n",
    "        if linha < self.num_blocos - 1:\n",
    "            nova_linha = linha + 1\n",
    "            novo_estado = np.copy(atual)\n",
    "            bloco_alvo = atual[nova_linha, coluna]\n",
    "            novo_estado[nova_linha, coluna] = 0\n",
    "            novo_estado[linha, coluna] = bloco_alvo\n",
    "            novos_estados.append(novo_estado)\n",
    "\n",
    "        #Esquerda\n",
    "        if coluna > 0:\n",
    "            nova_coluna = coluna - 1\n",
    "            novo_estado = np.copy(atual)\n",
    "            bloco_alvo = atual[linha, nova_coluna]\n",
    "            novo_estado[linha, nova_coluna] = 0\n",
    "            novo_estado[linha, coluna] = bloco_alvo\n",
    "            novos_estados.append(novo_estado)\n",
    "\n",
    "        #Direita\n",
    "        if coluna < self.num_blocos - 1:\n",
    "            nova_coluna = coluna + 1\n",
    "            novo_estado = np.copy(atual)\n",
    "            bloco_alvo = atual[linha, nova_coluna]\n",
    "            novo_estado[linha, nova_coluna] = 0\n",
    "            novo_estado[linha, coluna] = bloco_alvo\n",
    "            novos_estados.append(novo_estado)\n",
    "\n",
    "        return novos_estados\n"
   ]
  },
  {
   "cell_type": "code",
   "execution_count": 104,
   "outputs": [],
   "source": [
    "# Casse para Busca"
   ],
   "metadata": {
    "collapsed": false,
    "pycharm": {
     "name": "#%%\n"
    }
   }
  },
  {
   "cell_type": "code",
   "execution_count": 105,
   "outputs": [],
   "source": [
    "import heapq\n",
    "\n",
    "class BuscaGulosa():\n",
    "    def __init__(self,problema):\n",
    "        self.problema = problema\n",
    "\n",
    "    def _verifica_visitados(self,estado,estados_visitados):\n",
    "        for i in estados_visitados:\n",
    "            if self.problema.verifica_estado(i, estado):\n",
    "                return False\n",
    "        return True\n",
    "\n",
    "    def busca(self, inicio, fim):\n",
    "        p_fila = []\n",
    "\n",
    "        heapq.heappush(p_fila, (0, 0, inicio))\n",
    "        id_estado =0\n",
    "        estados_visitados = []\n",
    "        solucao_encontrada = False\n",
    "        cont_estados = 0\n",
    "\n",
    "        while len(p_fila) > 0:\n",
    "            atual = heapq.heappop(p_fila)[2]\n",
    "            estados_visitados.append(atual)\n",
    "\n",
    "            if self.problema.verifica_estado(atual, fim):\n",
    "                solucao_encontrada = True\n",
    "                break\n",
    "            else:\n",
    "                cont_estados +=1\n",
    "                print(\"Visitando #\",cont_estados)\n",
    "                novos_estados = self.problema.expande_estados(atual)\n",
    "\n",
    "                for i in novos_estados:\n",
    "                    if not self._verifica_visitados(i, estados_visitados):\n",
    "                        id_estado += 1\n",
    "                        prioridade = self.problema.distancia_manhattan(i, fim)\n",
    "                        print(\"Pr\",prioridade)\n",
    "\n",
    "                        print(i,\"\\nh = \",prioridade)\n",
    "                        heapq.heappush(p_fila,(prioridade,id_estado,i))\n",
    "        return solucao_encontrada, estados_visitados, cont_estados"
   ],
   "metadata": {
    "collapsed": false,
    "pycharm": {
     "name": "#%%\n"
    }
   }
  },
  {
   "cell_type": "code",
   "execution_count": 106,
   "outputs": [],
   "source": [
    "start = np.matrix([[2,8,3],[1,6,4],[7,0,5]])\n",
    "target = np.matrix([[1,2,3],[8,0,4],[7,6,5]])"
   ],
   "metadata": {
    "collapsed": false,
    "pycharm": {
     "name": "#%%\n"
    }
   }
  },
  {
   "cell_type": "code",
   "execution_count": 107,
   "outputs": [],
   "source": [
    "problema = SlidingPuzzle(3)\n",
    "guloso = BuscaGulosa(problema)"
   ],
   "metadata": {
    "collapsed": false,
    "pycharm": {
     "name": "#%%\n"
    }
   }
  },
  {
   "cell_type": "code",
   "execution_count": 108,
   "outputs": [
    {
     "name": "stdout",
     "output_type": "stream",
     "text": [
      "Visitando # 1\n",
      "Não Encontrado\n"
     ]
    }
   ],
   "source": [
    "solucao, visitados, passos = guloso.busca(start,target)\n",
    "\n",
    "if solucao:\n",
    "    print(\"Solução encontrada em\", passos)\n",
    "else:\n",
    "    print(\"Não Encontrado\")"
   ],
   "metadata": {
    "collapsed": false,
    "pycharm": {
     "name": "#%%\n"
    }
   }
  },
  {
   "cell_type": "code",
   "execution_count": 108,
   "outputs": [],
   "source": [],
   "metadata": {
    "collapsed": false,
    "pycharm": {
     "name": "#%%\n"
    }
   }
  }
 ],
 "metadata": {
  "kernelspec": {
   "display_name": "Python 3",
   "language": "python",
   "name": "python3"
  },
  "language_info": {
   "codemirror_mode": {
    "name": "ipython",
    "version": 2
   },
   "file_extension": ".py",
   "mimetype": "text/x-python",
   "name": "python",
   "nbconvert_exporter": "python",
   "pygments_lexer": "ipython2",
   "version": "2.7.6"
  }
 },
 "nbformat": 4,
 "nbformat_minor": 0
}